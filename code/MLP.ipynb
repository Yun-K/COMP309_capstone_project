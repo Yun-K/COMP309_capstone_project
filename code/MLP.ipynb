{
 "cells": [
  {
   "cell_type": "code",
   "execution_count": null,
   "metadata": {
    "id": "tchHTYls7AkS"
   },
   "outputs": [],
   "source": [
    "# Name: Yun Zhou\n",
    "# ID:   300442776\n",
    "#  # for using the vs code on colab\n",
    "#  !pip install colabcode\n",
    "# from colabcode import ColabCode\n",
    "# ColabCode(port=10000,password=\"12345\")"
   ]
  },
  {
   "cell_type": "code",
   "execution_count": 14,
   "metadata": {
    "colab": {
     "base_uri": "https://localhost:8080/"
    },
    "id": "DY7K-k8W7bJ6",
    "outputId": "d1587081-de31-489a-de05-010e09f7d4de"
   },
   "outputs": [
    {
     "name": "stdout",
     "output_type": "stream",
     "text": [
      "Requirement already satisfied: torchmetrics in c:\\users\\11973\\anaconda3\\lib\\site-packages (0.5.1)\n",
      "Requirement already satisfied: numpy>=1.17.2 in c:\\users\\11973\\anaconda3\\lib\\site-packages (from torchmetrics) (1.20.1)\n",
      "Requirement already satisfied: packaging in c:\\users\\11973\\anaconda3\\lib\\site-packages (from torchmetrics) (20.9)\n",
      "Requirement already satisfied: torch>=1.3.1 in c:\\users\\11973\\anaconda3\\lib\\site-packages (from torchmetrics) (1.9.1)\n",
      "Requirement already satisfied: typing_extensions in c:\\users\\11973\\anaconda3\\lib\\site-packages (from torch>=1.3.1->torchmetrics) (3.7.4.3)\n",
      "Requirement already satisfied: pyparsing>=2.0.2 in c:\\users\\11973\\anaconda3\\lib\\site-packages (from packaging->torchmetrics) (2.4.7)\n"
     ]
    }
   ],
   "source": [
    "# !pip install torchmetrics"
   ]
  },
  {
   "cell_type": "markdown",
   "metadata": {
    "id": "IirwIFv57AkV"
   },
   "source": [
    "import libraries"
   ]
  },
  {
   "cell_type": "code",
   "execution_count": 15,
   "metadata": {
    "id": "ov9Ejz8F7AkY"
   },
   "outputs": [],
   "source": [
    "\n",
    "import os\n",
    "import time\n",
    "\n",
    "import cv2\n",
    "# import helper\n",
    "import matplotlib.pyplot as plt\n",
    "import numpy as np\n",
    "import pandas as pd\n",
    "import torch  # PyTorch\n",
    "import torch.autograd\n",
    "import torch.nn as nn\n",
    "import torch.nn.functional as F\n",
    "import torch.optim as optim\n",
    "import torchmetrics  # metrics like accuracy, recall, etc\n",
    "import torchvision\n",
    "import torchvision.transforms as transforms  # for image Transformation\n",
    "import tqdm\n",
    "from PIL import Image\n",
    "from sklearn.datasets import load_digits\n",
    "from sklearn.metrics import (accuracy_score, confusion_matrix, make_scorer,\n",
    "                             mean_absolute_error, mean_squared_error,\n",
    "                             precision_recall_fscore_support, recall_score,\n",
    "                             roc_auc_score)\n",
    "from sklearn.model_selection import (KFold, LeaveOneOut, ShuffleSplit,\n",
    "                                     cross_val_score, cross_validate,\n",
    "                                     train_test_split)\n",
    "from sklearn.neural_network import MLPClassifier, MLPRegressor\n",
    "from torch import nn\n",
    "from torch.autograd import Variable\n",
    "from torch.nn.modules.container import Sequential\n",
    "from torch.optim import lr_scheduler\n",
    "from torch.optim.lr_scheduler import (CosineAnnealingLR, ReduceLROnPlateau,\n",
    "                                      StepLR)\n",
    "from torch.utils.data import DataLoader, Dataset, TensorDataset, random_split\n",
    "from torch.utils.data.sampler import SubsetRandomSampler  # Sampler\n",
    "from torch.utils.tensorboard import SummaryWriter\n",
    "from torchvision import datasets, transforms\n",
    "from torchvision.datasets import ImageFolder\n",
    "\n",
    "# import myutil\n"
   ]
  },
  {
   "cell_type": "markdown",
   "metadata": {
    "id": "nW08HzYS7AkZ"
   },
   "source": [
    "initialize some necessary global variable\n",
    "And set up google colab path \n",
    "> https://medium.com/analytics-vidhya/how-to-use-google-colab-with-github-via-google-drive-68efb23a42d"
   ]
  },
  {
   "cell_type": "code",
   "execution_count": 16,
   "metadata": {
    "colab": {
     "base_uri": "https://localhost:8080/"
    },
    "id": "H-JSWHy07Aka",
    "outputId": "a8826217-8292-45db-9df1-57b3f6c141d6"
   },
   "outputs": [
    {
     "name": "stdout",
     "output_type": "stream",
     "text": [
      "we can use: cpu to run the Model \n"
     ]
    }
   ],
   "source": [
    "# for using CPU or GPU\n",
    "\n",
    "DEVICE = 'cuda' if torch.cuda.is_available() else 'cpu'\n",
    "print(\"we can use:\", DEVICE, \"to run the Model \")\n",
    "\n",
    "isColab = True  if torch.cuda.is_available() else False\n",
    "if isColab:\n",
    "  from google.colab import drive\n",
    "  drive.mount('/content/gdrive')\n",
    "  print(\"Use google drive\")\n",
    "  # !cd /content/gdrive/MyDrive/ && ls\n",
    "\n",
    "PREFIX_PATH = \"/content/gdrive/MyDrive/\"\n",
    "DATA_PATH = \"/content/gdrive/MyDrive/traindata\" if isColab else \"../traindata\"\n",
    "MODEL_SAVE_PATH = \"/content/gdrive/MyDrive/Colab_Notebooks/model.pth\" if isColab else 'model.pth'\n",
    "BATCH_SIZE = 64\n",
    "train_size_coef = 0.85\n",
    "LEARNING_RATE, MOMENTUM = 0.001, 0.9\n",
    "RANDOM_SEED = 309\n"
   ]
  },
  {
   "cell_type": "markdown",
   "metadata": {
    "id": "fG7D8PLB7Akb"
   },
   "source": [
    "load, preprocess and construct the dataset "
   ]
  },
  {
   "cell_type": "code",
   "execution_count": 19,
   "metadata": {
    "colab": {
     "base_uri": "https://localhost:8080/",
     "height": 359
    },
    "id": "0nDDUX5j7Akc",
    "outputId": "d9d5d536-ce90-4290-b9db-c1d3979eb041"
   },
   "outputs": [
    {
     "name": "stdout",
     "output_type": "stream",
     "text": [
      "['cherry', 'strawberry', 'tomato']\n",
      "whole set len: 4457\n",
      "train set len: 3788\n",
      "valid set len: 669\n",
      "train+valid set len: 4457\n"
     ]
    }
   ],
   "source": [
    "\n",
    "\n",
    "def load_preprocess_construct_data(path=DATA_PATH):\n",
    "    dataset_whole = ImageFolder(path, transform=transforms.Compose(\n",
    "        [\n",
    "            # scale each images into the same size\n",
    "            transforms.Resize((300, 300)),\n",
    "            transforms.ToTensor(),  # transform them into tensor\n",
    "\n",
    "            # normalize tensor images with mean and std\n",
    "            # which means all channel of the input tensor images will be normalized\n",
    "            transforms.Normalize(mean=(0.5, 0.5, 0.5),\n",
    "                                 std=(0.5, 0.5, 0.5), inplace=False),\n",
    "            transforms.RandomRotation(degrees=(0, 180))\n",
    "        ])\n",
    "    )\n",
    "    # split the data into train/valid set\n",
    "    train_set, valid_set = train_test_split(dataset_whole, train_size=train_size_coef,\n",
    "                                            random_state=RANDOM_SEED)\n",
    "\n",
    "    # drop_last make sure that no images will be droped even there are no enough 128 images at the last round\n",
    "    train_loader = DataLoader(\n",
    "        train_set, batch_size=BATCH_SIZE, shuffle=True, drop_last=False)\n",
    "    valid_loader = DataLoader(\n",
    "        valid_set, batch_size=BATCH_SIZE, shuffle=True, drop_last=False)\n",
    "\n",
    "    print(dataset_whole.classes)\n",
    "\n",
    "    print(\"whole set len:\", len(dataset_whole))\n",
    "    print(\"train set len:\", len(train_set))\n",
    "    print(\"valid set len:\", len(valid_set))\n",
    "    print(\"train+valid set len:\", len(train_set)+len(valid_set))\n",
    "\n",
    "    return dataset_whole, train_set, valid_set, train_loader, valid_loader\n",
    "\n",
    "\n",
    "dataset_whole, train_set, valid_set, train_loader, valid_loader = load_preprocess_construct_data()\n"
   ]
  },
  {
   "cell_type": "markdown",
   "metadata": {
    "id": "jmEQscCv7Akd"
   },
   "source": [
    " use the tensorboard for visualize the data more convenient\n",
    " \n",
    " ``` \n",
    "tensorboard --logdir=preprocess\n",
    " ```"
   ]
  },
  {
   "cell_type": "code",
   "execution_count": 20,
   "metadata": {
    "id": "xAwu3B7H7Akd"
   },
   "outputs": [],
   "source": [
    "# preprocess_path  = \"/content/gdrive/MyDrive/Colab_Notebooks/preprocess\" if isColab else \"preprocess\"\n",
    "# writer = SummaryWriter(preprocess_path)\n",
    "# preprocess_step = 0\n",
    "# for (image_X,target_Y) in train_loader:\n",
    "#     # imgtensor=y-axis, global step = x axis\n",
    "#     writer.add_images(tag=\"data\", img_tensor=image_X, global_step=preprocess_step)\n",
    "#     preprocess_step = preprocess_step + 1\n",
    "# writer.close()"
   ]
  },
  {
   "cell_type": "markdown",
   "metadata": {
    "id": "UP8zhgFx7Ake"
   },
   "source": [
    "get the model "
   ]
  },
  {
   "cell_type": "code",
   "execution_count": 21,
   "metadata": {
    "id": "YvswpbTf7Ake",
    "outputId": "bc26b520-3061-454b-b701-0417964a6db4"
   },
   "outputs": [
    {
     "name": "stdout",
     "output_type": "stream",
     "text": [
      "MLP(\n",
      "  (layers): Sequential(\n",
      "    (0): Flatten(start_dim=1, end_dim=-1)\n",
      "    (1): Linear(in_features=270000, out_features=64, bias=True)\n",
      "    (2): ReLU()\n",
      "    (3): Linear(in_features=64, out_features=32, bias=True)\n",
      "    (4): ReLU()\n",
      "    (5): Linear(in_features=32, out_features=3, bias=True)\n",
      "  )\n",
      ")\n"
     ]
    }
   ],
   "source": [
    "import myutil\n",
    "model = myutil.MLP().to(DEVICE) #enable the GPU trian if we can \n",
    "print(model)"
   ]
  },
  {
   "cell_type": "markdown",
   "metadata": {
    "id": "QMgLbDjY7Akf"
   },
   "source": [
    "performance metric"
   ]
  },
  {
   "cell_type": "code",
   "execution_count": 22,
   "metadata": {
    "id": "D7gw9XA97Akf"
   },
   "outputs": [],
   "source": [
    "def get_accuracy(net, testloader):\n",
    "    \"\"\"\n",
    "    NOT USED in my CODE\n",
    "    this code snipest is from:\n",
    "    https://pytorch.org/tutorials/beginner/blitz/cifar10_tutorial.html\n",
    "    \"\"\"\n",
    "    correct, total = 0, 0\n",
    "    # since we're not training, we don't need to calculate the gradients for our outputs\n",
    "    with torch.no_grad():\n",
    "        for data in testloader:\n",
    "            images, labels = data\n",
    "            # calculate outputs by running images through the network\n",
    "            outputs = net(images)\n",
    "            # the class with the highest energy is what we choose as prediction\n",
    "            _, predicted = torch.max(outputs.data, 1)\n",
    "            total += labels.size(0)\n",
    "            correct += (predicted == labels).sum().item()\n",
    "\n",
    "    # print('Accuracy of the network on the 10000 test images: %d %%' % (\n",
    "    # 100 * correct / total))\n",
    "    return correct / total  # * 100"
   ]
  },
  {
   "cell_type": "code",
   "execution_count": 23,
   "metadata": {
    "id": "417dxrgX7Akg"
   },
   "outputs": [],
   "source": [
    "# initialize the torch metric  of accuracy\n",
    "train_accuracy = torchmetrics.Accuracy().to(DEVICE)\n",
    "valid_accuracy = torchmetrics.Accuracy().to(DEVICE)\n",
    "# torchmetrics.Precision()\n",
    "\n",
    "loss_function = nn.CrossEntropyLoss().to(DEVICE)\n",
    "\n",
    "# adam = optim.Adam(model.parameters(),lr=0.0001, momentum=0.99)\n",
    "# rms = optim.RMSprop(model.parameters(),lr=0.0001, momentum=0.99)\n",
    "# sgd = optim.SGD(model.parameters(),lr=0.001, momentum=0.99)\n",
    "optimizer = optim.SGD(model.parameters(),\n",
    "                      lr=LEARNING_RATE, momentum=MOMENTUM)\n",
    "# optimizer = optim.SGD(model.parameters(), lr=0.005, momentum=0.99)\n",
    "\n",
    "# scheduler = CyclicLR(optimizer, base_lr=lr, max_lr=0.01, step_size=5, mode='triangular2')\n",
    "# scheduler = lr_scheduler.StepLR(optimizer, step_size=3, gamma=0.1)\n"
   ]
  },
  {
   "cell_type": "markdown",
   "metadata": {
    "id": "FaaGjFXG7Akg"
   },
   "source": [
    "train the model several epoches"
   ]
  },
  {
   "cell_type": "code",
   "execution_count": 24,
   "metadata": {
    "id": "PUpAhBUo7Akg",
    "outputId": "defd2391-25ed-464d-a46c-283b34d32e9f"
   },
   "outputs": [
    {
     "name": "stdout",
     "output_type": "stream",
     "text": [
      "----------------------------------------------------------------------\n",
      "Wed Oct 20 18:16:59 2021\n",
      "Epoch 0: \n",
      " training step:60, train loss: 0.0167, valid loss: 0.0169\n",
      "Train set accuracy: 0.4411\n",
      "Valid set accuracy: 0.4619\n",
      "----------------------------------------------------------------------\n",
      "Wed Oct 20 18:17:36 2021\n",
      "Epoch 1: \n",
      " training step:120, train loss: 0.0157, valid loss: 0.0164\n",
      "Train set accuracy: 0.5166\n",
      "Valid set accuracy: 0.5007\n",
      "----------------------------------------------------------------------\n",
      "Wed Oct 20 18:18:09 2021\n",
      "Epoch 2: \n",
      " training step:180, train loss: 0.0145, valid loss: 0.0170\n",
      "Train set accuracy: 0.5713\n",
      "Valid set accuracy: 0.4783\n",
      "----------------------------------------------------------------------\n",
      "Wed Oct 20 18:18:46 2021\n",
      "Epoch 3: \n",
      " training step:240, train loss: 0.0137, valid loss: 0.0168\n",
      "Train set accuracy: 0.6082\n",
      "Valid set accuracy: 0.4738\n",
      "----------------------------------------------------------------------\n",
      "Wed Oct 20 18:19:08 2021\n",
      "Epoch 4: \n",
      " training step:300, train loss: 0.0129, valid loss: 0.0167\n",
      "Train set accuracy: 0.6571\n",
      "Valid set accuracy: 0.4888\n",
      "----------------------------------------------------------------------\n",
      "Wed Oct 20 18:19:27 2021\n",
      "Epoch 5: \n",
      " training step:360, train loss: 0.0119, valid loss: 0.0181\n",
      "Train set accuracy: 0.6785\n",
      "Valid set accuracy: 0.4679\n",
      "----------------------------------------------------------------------\n",
      "Wed Oct 20 18:19:44 2021\n",
      "Epoch 6: \n",
      " training step:420, train loss: 0.0109, valid loss: 0.0187\n",
      "Train set accuracy: 0.7307\n",
      "Valid set accuracy: 0.4798\n",
      "----------------------------------------------------------------------\n",
      "Wed Oct 20 18:19:58 2021\n",
      "Epoch 7: \n",
      " training step:480, train loss: 0.0102, valid loss: 0.0193\n",
      "Train set accuracy: 0.7468\n",
      "Valid set accuracy: 0.4828\n",
      "----------------------------------------------------------------------\n",
      "Wed Oct 20 18:20:17 2021\n",
      "Epoch 8: \n",
      " training step:540, train loss: 0.0085, valid loss: 0.0200\n",
      "Train set accuracy: 0.8012\n",
      "Valid set accuracy: 0.4335\n",
      "----------------------------------------------------------------------\n",
      "Wed Oct 20 18:20:28 2021\n",
      "Epoch 9: \n",
      " training step:600, train loss: 0.0075, valid loss: 0.0230\n",
      "Train set accuracy: 0.8303\n",
      "Valid set accuracy: 0.4709\n",
      "----------------------------------------------------------------------\n",
      "Wed Oct 20 18:20:42 2021\n",
      "Epoch 10: \n",
      " training step:660, train loss: 0.0068, valid loss: 0.0225\n",
      "Train set accuracy: 0.8440\n",
      "Valid set accuracy: 0.4484\n",
      "----------------------------------------------------------------------\n",
      "Wed Oct 20 18:20:54 2021\n",
      "Epoch 11: \n",
      " training step:720, train loss: 0.0055, valid loss: 0.0235\n",
      "Train set accuracy: 0.8889\n",
      "Valid set accuracy: 0.4514\n",
      "----------------------------------------------------------------------\n",
      "Wed Oct 20 18:21:05 2021\n",
      "Epoch 12: \n",
      " training step:780, train loss: 0.0059, valid loss: 0.0266\n",
      "Train set accuracy: 0.8706\n",
      "Valid set accuracy: 0.4768\n",
      "----------------------------------------------------------------------\n",
      "Wed Oct 20 18:21:17 2021\n",
      "Epoch 13: \n",
      " training step:840, train loss: 0.0047, valid loss: 0.0279\n",
      "Train set accuracy: 0.9055\n",
      "Valid set accuracy: 0.4439\n",
      "----------------------------------------------------------------------\n",
      "Wed Oct 20 18:21:36 2021\n",
      "Epoch 14: \n",
      " training step:900, train loss: 0.0034, valid loss: 0.0280\n",
      "Train set accuracy: 0.9311\n",
      "Valid set accuracy: 0.4574\n"
     ]
    }
   ],
   "source": [
    "\n",
    "model = model.train()\n",
    "total_step, valid_loss_min = 0, np.Inf\n",
    "loss_train_list, loss_val_list, acc_train_list, acc_valid_list = [], [], [], []\n",
    "\n",
    "p = 0  # current epoch numer to mark whether the validation loss didn't increase\n",
    "stop = False  # whether stop the training process\n",
    "\n",
    "epoch_num = 30 if model.to_model_string()=='CNN' else 15\n",
    "for epoch in range(0, epoch_num):\n",
    "    if stop:\n",
    "        break\n",
    "        \n",
    "    # reset for current epoch\n",
    "    train_accuracy.reset()\n",
    "    valid_accuracy.reset()\n",
    "\n",
    "    train_loss = []\n",
    "    # scheduler.step(epoch)\n",
    "\n",
    "    for batch_index, (image_X, target_Y) in enumerate(train_loader):\n",
    "        total_step = total_step+1\n",
    "        # enable the GPU train if we can\n",
    "        image_X, target_Y = image_X.to(DEVICE), target_Y.to(DEVICE)\n",
    "\n",
    "        # Sets the gradients of all optimized torch.Tensor s to zero.\n",
    "        optimizer.zero_grad()\n",
    "\n",
    "        # do the forward , back-propagation, and optimize\n",
    "        outputs = model(image_X)\n",
    "        loss = loss_function(outputs, target_Y)\n",
    "        train_loss.append(loss.item())\n",
    "\n",
    "        # store the accuracy\n",
    "        preds = torch.max(outputs, 1)[1]\n",
    "        train_accuracy(preds, target_Y)  # TODO:\n",
    "\n",
    "        # BACKWARD and optimize\n",
    "        loss.backward()\n",
    "        optimizer.step()\n",
    "    final_train_acc = train_accuracy.compute().item()  # * 100\n",
    "    acc_train_list.append(final_train_acc)\n",
    "    # FIXME: DIFF ???  use np.mean() or need to divide by len(trainset)\n",
    "    final_train_loss_mean = np.sum(train_loss)/len(train_set)\n",
    "    loss_train_list.append(final_train_loss_mean)\n",
    "\n",
    "    # for validation set\n",
    "    model.eval()\n",
    "    val_loss = []\n",
    "    # since we're not training, we don't need to calculate the gradients for our outputs\n",
    "    with torch.no_grad():\n",
    "        for batch_index, (image_X, target_Y) in enumerate(valid_loader):\n",
    "            # enable the GPU  if we can\n",
    "            image_X, target_Y = image_X.to(DEVICE), target_Y.to(DEVICE)\n",
    "            outputs = model(image_X)\n",
    "            loss = loss_function(outputs, target_Y)\n",
    "            val_loss.append(loss.item())\n",
    "\n",
    "            # store the accuracy\n",
    "            preds = torch.max(outputs, 1)[1]\n",
    "            valid_accuracy(preds, target_Y)  # TODO:\n",
    "    final_valid_acc = valid_accuracy.compute().item()  # * 100\n",
    "    acc_valid_list.append(final_valid_acc)\n",
    "\n",
    "    # FIXME: DIFF ???  use np.mean() or need to divide by len(trainset)\n",
    "    final_valid_loss_mean = np.sum(val_loss)/len(valid_set)\n",
    "    loss_val_list .append(final_valid_loss_mean)\n",
    "    print('-'*70)\n",
    "    print(time.ctime())\n",
    "    print(\n",
    "        f'Epoch {epoch}:', '\\n', f'training step:{total_step}, train loss: {final_train_loss_mean:.4f}, valid loss: { final_valid_loss_mean:.4f}')\n",
    "    print(f\"Train set accuracy: {final_train_acc:.4f}\")\n",
    "    print(f\"Valid set accuracy: {final_valid_acc:.4f}\")\n",
    "\n",
    "    # scheduler.step(final_valid_loss_mean)\n",
    "\n",
    "#     # check if the loss on valid set is improved or not\n",
    "#     if final_valid_loss_mean <= valid_loss_min:\n",
    "#         print('-'*10)\n",
    "#         print('Validation loss decreased ({:.6f} --> {:.6f}).  Saving model ...'.format(\n",
    "#             valid_loss_min,\n",
    "#             final_valid_loss_mean))\n",
    "#         torch.save(model.state_dict(), MODEL_SAVE_PATH)\n",
    "#         valid_loss_min = final_valid_loss_mean\n",
    "#         p = 0  # reset P\n",
    "#     else:\n",
    "#         print('-'*15)\n",
    "#         p += 1\n",
    "#         print(f'{p} epochs of increasing val loss')\n",
    "#         if p > 5:\n",
    "#             print('Stopping training since no improvement on the validation loss')\n",
    "#             stop = True\n",
    "#             break\n",
    "\n"
   ]
  },
  {
   "cell_type": "markdown",
   "metadata": {
    "id": "jX_mrlHG7Akh"
   },
   "source": [
    "plot the graph "
   ]
  },
  {
   "cell_type": "code",
   "execution_count": 25,
   "metadata": {
    "id": "TDk9vSTZ7Aki",
    "outputId": "ec044177-7a32-42b5-afbf-69f1edec472f"
   },
   "outputs": [
    {
     "name": "stdout",
     "output_type": "stream",
     "text": [
      "Finished the training process and plot graphs\n"
     ]
    },
    {
     "data": {
      "image/png": "[encoded data removed]",
      "text/plain": [
       "<Figure size 720x360 with 2 Axes>"
      ]
     },
     "metadata": {
      "needs_background": "light"
     },
     "output_type": "display_data"
    }
   ],
   "source": [
    "plt.figure(figsize=(10, 5))\n",
    "plt.suptitle(model.to_model_string())\n",
    "\n",
    "plt.subplot(1, 2, 1).set_title('loss')\n",
    "plt.plot(loss_train_list, color='red', label='train set')\n",
    "plt.plot(loss_val_list, color='blue', label='valid set')\n",
    "plt.subplot(1, 2, 2).set_title('Accuracy')\n",
    "plt.plot(acc_train_list, color='red', label='train set')\n",
    "plt.plot(acc_valid_list, color='blue', label='valid set')\n",
    "print('Finished the training process and plot graphs')\n",
    "plt.show()"
   ]
  },
  {
   "cell_type": "code",
   "execution_count": 26,
   "metadata": {
    "id": "YXy7WCZ77Akj"
   },
   "outputs": [
    {
     "name": "stdout",
     "output_type": "stream",
     "text": [
      "Finished the training process and plot graphs\n"
     ]
    },
    {
     "data": {
      "image/png": "[encoded data removed]",
      "text/plain": [
       "<Figure size 720x360 with 2 Axes>"
      ]
     },
     "metadata": {
      "needs_background": "light"
     },
     "output_type": "display_data"
    }
   ],
   "source": [
    "plt.figure(figsize=(10, 5))\n",
    "plt.suptitle(model.to_model_string())\n",
    "\n",
    "plt.subplot(1, 2, 1).set_title('loss')\n",
    "plt.plot(loss_train_list, color='red', label='train set')\n",
    "# plt.plot(loss_val_list, color='blue', label='valid set')\n",
    "plt.subplot(1, 2, 2).set_title('Accuracy')\n",
    "plt.plot(acc_train_list, color='red', label='train set')\n",
    "plt.plot(acc_valid_list, color='blue', label='valid set')\n",
    "print('Finished the training process and plot graphs')\n",
    "plt.show()"
   ]
  }
 ],
 "metadata": {
  "accelerator": "TPU",
  "colab": {
   "collapsed_sections": [],
   "name": "train.ipynb",
   "provenance": []
  },
  "interpreter": {
   "hash": "6cfee2bad94d2a199856bba715a6a719a1b6dadbcd1d366ba7b99cf78a59f189"
  },
  "kernelspec": {
   "display_name": "Python 3 (ipykernel)",
   "language": "python",
   "name": "python3"
  },
  "language_info": {
   "codemirror_mode": {
    "name": "ipython",
    "version": 3
   },
   "file_extension": ".py",
   "mimetype": "text/x-python",
   "name": "python",
   "nbconvert_exporter": "python",
   "pygments_lexer": "ipython3",
   "version": "3.8.8"
  }
 },
 "nbformat": 4,
 "nbformat_minor": 1
}
