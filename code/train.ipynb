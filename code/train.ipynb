{
  "nbformat": 4,
  "nbformat_minor": 0,
  "metadata": {
    "colab": {
      "name": "best",
      "provenance": [],
      "collapsed_sections": []
    },
    "interpreter": {
      "hash": "6cfee2bad94d2a199856bba715a6a719a1b6dadbcd1d366ba7b99cf78a59f189"
    },
    "kernelspec": {
      "display_name": "Python 3 (ipykernel)",
      "language": "python",
      "name": "python3"
    },
    "language_info": {
      "codemirror_mode": {
        "name": "ipython",
        "version": 3
      },
      "file_extension": ".py",
      "mimetype": "text/x-python",
      "name": "python",
      "nbconvert_exporter": "python",
      "pygments_lexer": "ipython3",
      "version": "3.8.8"
    },
    "accelerator": "GPU"
  },
  "cells": [
    {
      "cell_type": "code",
      "metadata": {
        "id": "tchHTYls7AkS"
      },
      "source": [
        "# Name: Yun Zhou\n",
        "# ID:   300442776\n",
        "#  # for using the vs code on colab\n",
        "#  !pip install colabcode\n",
        "# from colabcode import ColabCode\n",
        "# ColabCode(port=10000,password=\"12345\")"
      ],
      "execution_count": null,
      "outputs": []
    },
    {
      "cell_type": "code",
      "metadata": {
        "id": "DY7K-k8W7bJ6",
        "colab": {
          "base_uri": "https://localhost:8080/"
        },
        "outputId": "e8e60058-0821-4098-c22b-e7848eee1847"
      },
      "source": [
        "!pip install torchmetrics"
      ],
      "execution_count": null,
      "outputs": [
        {
          "output_type": "stream",
          "name": "stdout",
          "text": [
            "Collecting torchmetrics\n",
            "  Downloading torchmetrics-0.5.1-py3-none-any.whl (282 kB)\n",
            "\u001b[?25l\r\u001b[K     |█▏                              | 10 kB 20.5 MB/s eta 0:00:01\r\u001b[K     |██▎                             | 20 kB 22.0 MB/s eta 0:00:01\r\u001b[K     |███▌                            | 30 kB 9.7 MB/s eta 0:00:01\r\u001b[K     |████▋                           | 40 kB 9.3 MB/s eta 0:00:01\r\u001b[K     |█████▉                          | 51 kB 5.3 MB/s eta 0:00:01\r\u001b[K     |███████                         | 61 kB 5.8 MB/s eta 0:00:01\r\u001b[K     |████████                        | 71 kB 5.5 MB/s eta 0:00:01\r\u001b[K     |█████████▎                      | 81 kB 6.1 MB/s eta 0:00:01\r\u001b[K     |██████████▍                     | 92 kB 4.8 MB/s eta 0:00:01\r\u001b[K     |███████████▋                    | 102 kB 5.2 MB/s eta 0:00:01\r\u001b[K     |████████████▊                   | 112 kB 5.2 MB/s eta 0:00:01\r\u001b[K     |██████████████                  | 122 kB 5.2 MB/s eta 0:00:01\r\u001b[K     |███████████████                 | 133 kB 5.2 MB/s eta 0:00:01\r\u001b[K     |████████████████▏               | 143 kB 5.2 MB/s eta 0:00:01\r\u001b[K     |█████████████████▍              | 153 kB 5.2 MB/s eta 0:00:01\r\u001b[K     |██████████████████▌             | 163 kB 5.2 MB/s eta 0:00:01\r\u001b[K     |███████████████████▊            | 174 kB 5.2 MB/s eta 0:00:01\r\u001b[K     |████████████████████▉           | 184 kB 5.2 MB/s eta 0:00:01\r\u001b[K     |██████████████████████          | 194 kB 5.2 MB/s eta 0:00:01\r\u001b[K     |███████████████████████▏        | 204 kB 5.2 MB/s eta 0:00:01\r\u001b[K     |████████████████████████▎       | 215 kB 5.2 MB/s eta 0:00:01\r\u001b[K     |█████████████████████████▌      | 225 kB 5.2 MB/s eta 0:00:01\r\u001b[K     |██████████████████████████▋     | 235 kB 5.2 MB/s eta 0:00:01\r\u001b[K     |███████████████████████████▉    | 245 kB 5.2 MB/s eta 0:00:01\r\u001b[K     |█████████████████████████████   | 256 kB 5.2 MB/s eta 0:00:01\r\u001b[K     |██████████████████████████████  | 266 kB 5.2 MB/s eta 0:00:01\r\u001b[K     |███████████████████████████████▎| 276 kB 5.2 MB/s eta 0:00:01\r\u001b[K     |████████████████████████████████| 282 kB 5.2 MB/s \n",
            "\u001b[?25hRequirement already satisfied: numpy>=1.17.2 in /usr/local/lib/python3.7/dist-packages (from torchmetrics) (1.19.5)\n",
            "Requirement already satisfied: torch>=1.3.1 in /usr/local/lib/python3.7/dist-packages (from torchmetrics) (1.9.0+cu111)\n",
            "Requirement already satisfied: packaging in /usr/local/lib/python3.7/dist-packages (from torchmetrics) (21.0)\n",
            "Requirement already satisfied: typing-extensions in /usr/local/lib/python3.7/dist-packages (from torch>=1.3.1->torchmetrics) (3.7.4.3)\n",
            "Requirement already satisfied: pyparsing>=2.0.2 in /usr/local/lib/python3.7/dist-packages (from packaging->torchmetrics) (2.4.7)\n",
            "Installing collected packages: torchmetrics\n",
            "Successfully installed torchmetrics-0.5.1\n"
          ]
        }
      ]
    },
    {
      "cell_type": "markdown",
      "metadata": {
        "id": "IirwIFv57AkV"
      },
      "source": [
        "import libraries"
      ]
    },
    {
      "cell_type": "code",
      "metadata": {
        "id": "ov9Ejz8F7AkY"
      },
      "source": [
        "\n",
        "import os\n",
        "import time\n",
        "\n",
        "import cv2\n",
        "# import helper\n",
        "import matplotlib.pyplot as plt\n",
        "import numpy as np\n",
        "import pandas as pd\n",
        "import torch  # PyTorch\n",
        "import torch.autograd\n",
        "import torch.nn as nn\n",
        "import torch.nn.functional as F\n",
        "import torch.optim as optim\n",
        "import torchmetrics  # metrics like accuracy, recall, etc\n",
        "import torchvision\n",
        "import torchvision.transforms as transforms  # for image Transformation\n",
        "import tqdm\n",
        "from PIL import Image\n",
        "from sklearn.datasets import load_digits\n",
        "from sklearn.metrics import (accuracy_score, confusion_matrix, make_scorer,\n",
        "                             mean_absolute_error, mean_squared_error,\n",
        "                             precision_recall_fscore_support, recall_score,\n",
        "                             roc_auc_score)\n",
        "from sklearn.model_selection import (KFold, LeaveOneOut, ShuffleSplit,\n",
        "                                     cross_val_score, cross_validate,\n",
        "                                     train_test_split)\n",
        "from sklearn.neural_network import MLPClassifier, MLPRegressor\n",
        "from torch import nn\n",
        "from torch.autograd import Variable\n",
        "from torch.nn.modules.container import Sequential\n",
        "from torch.optim import lr_scheduler\n",
        "from torch.optim.lr_scheduler import (CosineAnnealingLR, ReduceLROnPlateau,\n",
        "                                      StepLR)\n",
        "from torch.utils.data import DataLoader, Dataset, TensorDataset, random_split\n",
        "from torch.utils.data.sampler import SubsetRandomSampler  # Sampler\n",
        "from torch.utils.tensorboard import SummaryWriter\n",
        "from torchvision import datasets, transforms\n",
        "from torchvision.datasets import ImageFolder\n",
        "\n",
        "# import myutil\n"
      ],
      "execution_count": null,
      "outputs": []
    },
    {
      "cell_type": "markdown",
      "metadata": {
        "id": "nW08HzYS7AkZ"
      },
      "source": [
        "initialize some necessary global variable\n",
        "And set up google colab path \n",
        "> https://medium.com/analytics-vidhya/how-to-use-google-colab-with-github-via-google-drive-68efb23a42d"
      ]
    },
    {
      "cell_type": "code",
      "metadata": {
        "id": "H-JSWHy07Aka",
        "colab": {
          "base_uri": "https://localhost:8080/"
        },
        "outputId": "7b02134b-c863-495d-cb83-4aaf06d511e8"
      },
      "source": [
        "# for using CPU or GPU\n",
        "# import torch \n",
        "DEVICE = ('cuda' if torch.cuda.is_available() else 'cpu')\n",
        "print(\"we can use:\", DEVICE, \"to run the Model \")\n",
        "\n",
        "isColab = True  if torch.cuda.is_available() else False\n",
        "# isColab = !isColab #for CPU on colab\n",
        "\n",
        "from google.colab import drive\n",
        "drive.mount('/content/gdrive')\n",
        "if isColab:\n",
        "  print(\"Use google drive\")\n",
        "  # !cd /content/gdrive/MyDrive/ && ls\n",
        "\n",
        "PREFIX_PATH = \"/content/gdrive/MyDrive/\"\n",
        "DATA_PATH = \"/content/gdrive/MyDrive/traindata\" if isColab else \"../traindata\"\n",
        "\n"
      ],
      "execution_count": null,
      "outputs": [
        {
          "output_type": "stream",
          "name": "stdout",
          "text": [
            "we can use: cuda to run the Model \n",
            "Mounted at /content/gdrive\n",
            "Use google drive\n"
          ]
        }
      ]
    },
    {
      "cell_type": "markdown",
      "metadata": {
        "id": "fG7D8PLB7Akb"
      },
      "source": [
        "load, preprocess and construct the dataset "
      ]
    },
    {
      "cell_type": "code",
      "metadata": {
        "id": "0nDDUX5j7Akc",
        "colab": {
          "base_uri": "https://localhost:8080/"
        },
        "outputId": "3380ebda-900e-4491-ae7d-713a2f82ce8f"
      },
      "source": [
        "BATCH_SIZE = 64\n",
        "train_size_coef = 0.8\n",
        "RANDOM_SEED = 309\n",
        "\n",
        "def load_preprocess_construct_data(path=DATA_PATH,BATCH_SIZE = BATCH_SIZE):\n",
        "    dataset_whole = ImageFolder(path, transform=transforms.Compose(\n",
        "        [\n",
        "            # scale each images into the same size\n",
        "            transforms.Resize((300, 300)),\n",
        "            transforms.ToTensor(),  # transform them into tensor\n",
        "\n",
        "            # normalize tensor images with mean and std\n",
        "            # which means all channel of the input tensor images will be normalized\n",
        "            transforms.Normalize(mean=(0.5, 0.5, 0.5),\n",
        "                                 std=(0.5, 0.5, 0.5), inplace=False),\n",
        "            transforms.RandomRotation(degrees=(0, 180))\n",
        "        ])\n",
        "    )\n",
        "    print(\"whole set len:\", len(dataset_whole))\n",
        "    # split the data into train/valid set\n",
        "    train_set, valid_set = train_test_split(dataset_whole, train_size=train_size_coef,\n",
        "                                            random_state=RANDOM_SEED)\n",
        "    # shuffle:TRUE means random sample\n",
        "    # drop_last:False will make sure that no images will be droped even there are no enough BATCH_SIZE(e.g. 64) images at the last round\n",
        "    train_loader = DataLoader(\n",
        "        train_set, batch_size=BATCH_SIZE, shuffle=True, num_workers=2, drop_last=False)\n",
        "    valid_loader = DataLoader(\n",
        "        valid_set, batch_size=BATCH_SIZE, shuffle=True, num_workers=2, drop_last=False)\n",
        "\n",
        "    print(dataset_whole.classes)\n",
        "\n",
        "    print(\"whole set len:\", len(dataset_whole))\n",
        "    print(\"train set len:\", len(train_set))\n",
        "    print(\"valid set len:\", len(valid_set))\n",
        "    print(\"train+valid set len:\", len(train_set)+len(valid_set))\n",
        "\n",
        "    return dataset_whole, train_set, valid_set, train_loader, valid_loader\n",
        "\n",
        "\n",
        "dataset_whole, train_set, valid_set, train_loader, valid_loader = load_preprocess_construct_data()\n"
      ],
      "execution_count": null,
      "outputs": [
        {
          "output_type": "stream",
          "name": "stdout",
          "text": [
            "whole set len: 5026\n",
            "['cherry', 'strawberry', 'tomato']\n",
            "whole set len: 5026\n",
            "train set len: 4020\n",
            "valid set len: 1006\n",
            "train+valid set len: 5026\n"
          ]
        }
      ]
    },
    {
      "cell_type": "markdown",
      "metadata": {
        "id": "jmEQscCv7Akd"
      },
      "source": [
        " use the tensorboard for visualize the data more convenient\n",
        " \n",
        " ``` \n",
        "tensorboard --logdir=preprocess\n",
        " ```"
      ]
    },
    {
      "cell_type": "code",
      "metadata": {
        "id": "xAwu3B7H7Akd"
      },
      "source": [
        "# preprocess_path  = \"/content/gdrive/MyDrive/Colab_Notebooks/preprocess\" if isColab else \"preprocess\"\n",
        "# writer = SummaryWriter(preprocess_path)\n",
        "# preprocess_step = 0\n",
        "# for (image_X,target_Y) in train_loader:\n",
        "#     # imgtensor=y-axis, global step = x axis\n",
        "#     writer.add_images(tag=\"data\", img_tensor=image_X, global_step=preprocess_step)\n",
        "#     preprocess_step = preprocess_step + 1\n",
        "# writer.close()"
      ],
      "execution_count": null,
      "outputs": []
    },
    {
      "cell_type": "markdown",
      "metadata": {
        "id": "UP8zhgFx7Ake"
      },
      "source": [
        "get the model "
      ]
    },
    {
      "cell_type": "code",
      "metadata": {
        "id": "xtuzanW18k95"
      },
      "source": [
        "# # https://www.kaggle.com/artgor/simple-eda-and-model-in-pytorch/notebook\n",
        "# # https://www.mashen.zone/thread-1825047.htm\n",
        "# # https://blog.csdn.net/nanke_4869/article/details/113458729\n",
        "# # CNN model\n",
        "# something has to be commented out since no enough GPU memory in Colab\n",
        "class CNN(nn.Module):\n",
        "  \"\"\"\n",
        "https://datascience.stackexchange.com/questions/40906/determining-size-of-fc-layer-after-conv-layer-in-pytorch\n",
        "  https://towardsdatascience.com/classification-of-fruit-images-using-neural-networks-pytorch-1d34d49342c7\n",
        "  \"\"\"\n",
        "  def __init__(self):\n",
        "      super().__init__()\n",
        "      self.network = nn.Sequential(\n",
        "          nn.Conv2d(in_channels=3, out_channels= 32, kernel_size=3, stride=1, padding=1), #3 channels to 32 channels\n",
        "          # Batch Normalization: Accelerating Deep Network Training by Reducing Internal Covariate Shift\n",
        "          nn.BatchNorm2d(32),\n",
        "          nn.ReLU(inplace = True), # activitation function \n",
        "          nn.MaxPool2d(2, 2), # output: 32 channels x 150 x 150 image size - decrease\n",
        "          nn.Dropout(0.25), \n",
        "\n",
        "          nn.Conv2d(in_channels=32, out_channels= 64, kernel_size=3, stride=1, padding=1),\n",
        "          nn.BatchNorm2d(64),\n",
        "          nn.ReLU(inplace = True), # activitation function \n",
        "          nn.MaxPool2d(2, 2), # output: 64 x 75 x 75\n",
        "          # use dropout to enable a kind of early stop which can avoid the over-fit \n",
        "          nn.Dropout(0.25), \n",
        "\n",
        "          nn.Conv2d(in_channels=64, out_channels= 128, kernel_size=3, stride=1, padding=1),\n",
        "          nn.BatchNorm2d(128),\n",
        "          nn.ReLU(inplace = True), # activitation function \n",
        "          nn.Conv2d(in_channels=128, out_channels= 128, kernel_size=3, stride=1, padding=1), #can keep the same, increase power of model , go deeper as u add linearity to non-linearity\n",
        "          # nn.BatchNorm2d(128),\n",
        "          nn.ReLU(inplace = True), # activitation function \n",
        "          nn.MaxPool2d(3, 3), # output: 128 x 25 x 25\n",
        "          # use dropout to enable a kind of early stop which can avoid the over-fit \n",
        "          nn.Dropout(0.25), \n",
        "\n",
        "          nn.Conv2d(in_channels=128, out_channels= 256, kernel_size=3, stride=1, padding=1),\n",
        "          nn.BatchNorm2d(256),\n",
        "          nn.ReLU(inplace = True), # activitation function \n",
        "          nn.Conv2d(in_channels=256, out_channels= 256, kernel_size=3, stride=1, padding=1),\n",
        "          nn.ReLU(inplace = True), # activitation function \n",
        "          nn.Dropout(0.25), \n",
        "          \n",
        "          nn.Conv2d(in_channels=256, out_channels= 512, kernel_size=3, stride=1, padding=1),\n",
        "          nn.BatchNorm2d(512),\n",
        "          # nn.MaxPool2d(2),\n",
        "          nn.ReLU(inplace = True), # activitation function \n",
        "          # nn.Conv2d(in_channels=256, out_channels= 256, kernel_size=3, stride=1, padding=1),\n",
        "          # nn.BatchNorm2d(512),\n",
        "          # nn.MaxPool2d(2),\n",
        "          # nn.ReLU(inplace = True), # activitation function \n",
        "          nn.MaxPool2d(5, 5), # output: 512 x 5 x 5\n",
        "          # use dropout to enable a kind of early stop which can avoid the over-fit \n",
        "          nn.Dropout(0.25), \n",
        "\n",
        "          # nn.Conv2d(in_channels=256, out_channels= 512, kernel_size=3, stride=1, padding=1),\n",
        "          # nn.BatchNorm2d(512),\n",
        "          # nn.ReLU(inplace = True), # activitation function \n",
        "          # # nn.Conv2d(in_channels=512, out_channels= 512, kernel_size=3, stride=1, padding=1),\n",
        "          # nn.BatchNorm2d(512),\n",
        "          # # nn.MaxPool2d(2),\n",
        "          # nn.ReLU(inplace = True), # activitation function \n",
        "          # nn.MaxPool2d(5, 5), # output: 512 x 5 x 5\n",
        "          # # use dropout to enable a kind of early stop which can avoid the over-fit \n",
        "          # nn.Dropout(0.25), \n",
        "\n",
        "          nn.Flatten(), #a single vector 512*5*5,\n",
        "          nn.Linear(512*5*5, 512),\n",
        "          nn.ReLU(inplace = True), # activitation function \n",
        "          nn.Dropout(0.25), \n",
        "\n",
        "          # nn.ReLU(inplace = True), # activitation function \n",
        "          # nn.Linear(1024, 512),\n",
        "          # nn.ReLU(),\n",
        "          nn.Linear(512, 3)\n",
        "          \n",
        "\n",
        "          # nn.Dropout(0.25), \n",
        "          # 512,131 on towardsDatascience, dont know what it is , \n",
        "          # I think it might be the batch_size(128) + classes(3)?\n",
        "          # need to test performances\n",
        "          # nn.Linear(512, 131) \n",
        "          \n",
        "          )\n",
        "      \n",
        "  def forward(self, xb):\n",
        "      return self.network(xb)\n",
        "\n",
        "\n",
        "  def to_model_string(self):\n",
        "      return 'CNN'\n"
      ],
      "execution_count": null,
      "outputs": []
    },
    {
      "cell_type": "code",
      "metadata": {
        "id": "YvswpbTf7Ake",
        "colab": {
          "base_uri": "https://localhost:8080/"
        },
        "outputId": "f773cbbe-8308-4031-9b9f-7b3fe52fea9b"
      },
      "source": [
        "DEVICE = ('cuda' if torch.cuda.is_available() else 'cpu')\n",
        "print(\"we can use:\", DEVICE, \"to run the Model \")\n",
        "model = CNN().to(DEVICE) #enable the GPU trian if we can \n",
        "print(\"Our model: \")\n",
        "print(model)"
      ],
      "execution_count": null,
      "outputs": [
        {
          "output_type": "stream",
          "name": "stdout",
          "text": [
            "we can use: cuda to run the Model \n",
            "Our model: \n",
            "CNN(\n",
            "  (network): Sequential(\n",
            "    (0): Conv2d(3, 32, kernel_size=(3, 3), stride=(1, 1), padding=(1, 1))\n",
            "    (1): BatchNorm2d(32, eps=1e-05, momentum=0.1, affine=True, track_running_stats=True)\n",
            "    (2): ReLU(inplace=True)\n",
            "    (3): MaxPool2d(kernel_size=2, stride=2, padding=0, dilation=1, ceil_mode=False)\n",
            "    (4): Dropout(p=0.25, inplace=False)\n",
            "    (5): Conv2d(32, 64, kernel_size=(3, 3), stride=(1, 1), padding=(1, 1))\n",
            "    (6): BatchNorm2d(64, eps=1e-05, momentum=0.1, affine=True, track_running_stats=True)\n",
            "    (7): ReLU(inplace=True)\n",
            "    (8): MaxPool2d(kernel_size=2, stride=2, padding=0, dilation=1, ceil_mode=False)\n",
            "    (9): Dropout(p=0.25, inplace=False)\n",
            "    (10): Conv2d(64, 128, kernel_size=(3, 3), stride=(1, 1), padding=(1, 1))\n",
            "    (11): BatchNorm2d(128, eps=1e-05, momentum=0.1, affine=True, track_running_stats=True)\n",
            "    (12): ReLU(inplace=True)\n",
            "    (13): Conv2d(128, 128, kernel_size=(3, 3), stride=(1, 1), padding=(1, 1))\n",
            "    (14): ReLU(inplace=True)\n",
            "    (15): MaxPool2d(kernel_size=3, stride=3, padding=0, dilation=1, ceil_mode=False)\n",
            "    (16): Dropout(p=0.25, inplace=False)\n",
            "    (17): Conv2d(128, 256, kernel_size=(3, 3), stride=(1, 1), padding=(1, 1))\n",
            "    (18): BatchNorm2d(256, eps=1e-05, momentum=0.1, affine=True, track_running_stats=True)\n",
            "    (19): ReLU(inplace=True)\n",
            "    (20): Conv2d(256, 256, kernel_size=(3, 3), stride=(1, 1), padding=(1, 1))\n",
            "    (21): ReLU(inplace=True)\n",
            "    (22): Dropout(p=0.25, inplace=False)\n",
            "    (23): Conv2d(256, 512, kernel_size=(3, 3), stride=(1, 1), padding=(1, 1))\n",
            "    (24): BatchNorm2d(512, eps=1e-05, momentum=0.1, affine=True, track_running_stats=True)\n",
            "    (25): ReLU(inplace=True)\n",
            "    (26): MaxPool2d(kernel_size=5, stride=5, padding=0, dilation=1, ceil_mode=False)\n",
            "    (27): Dropout(p=0.25, inplace=False)\n",
            "    (28): Flatten(start_dim=1, end_dim=-1)\n",
            "    (29): Linear(in_features=12800, out_features=512, bias=True)\n",
            "    (30): ReLU(inplace=True)\n",
            "    (31): Dropout(p=0.25, inplace=False)\n",
            "    (32): Linear(in_features=512, out_features=3, bias=True)\n",
            "  )\n",
            ")\n"
          ]
        }
      ]
    },
    {
      "cell_type": "markdown",
      "metadata": {
        "id": "QMgLbDjY7Akf"
      },
      "source": [
        "performance metric"
      ]
    },
    {
      "cell_type": "code",
      "metadata": {
        "id": "D7gw9XA97Akf"
      },
      "source": [
        "def get_accuracy(net, testloader):\n",
        "    \"\"\"\n",
        "    NOT USED in my CODE\n",
        "    this code snipest is from:\n",
        "    https://pytorch.org/tutorials/beginner/blitz/cifar10_tutorial.html\n",
        "    \"\"\"\n",
        "    correct, total = 0, 0\n",
        "    # since we're not training, we don't need to calculate the gradients for our outputs\n",
        "    with torch.no_grad():\n",
        "        for data in testloader:\n",
        "            images, labels = data\n",
        "            # calculate outputs by running images through the network\n",
        "            outputs = net(images)\n",
        "            # the class with the highest energy is what we choose as prediction\n",
        "            _, predicted = torch.max(outputs.data, 1)\n",
        "            total += labels.size(0)\n",
        "            correct += (predicted == labels).sum().item()\n",
        "    return correct / total  # * 100"
      ],
      "execution_count": null,
      "outputs": []
    },
    {
      "cell_type": "markdown",
      "metadata": {
        "id": "ac9ffsbvIxQC"
      },
      "source": [
        "for adjusting lr based on epoches, which is about scheduler\n",
        "> https://pytorch.org/docs/stable/optim.html\n",
        "> https://pytorch.org/docs/stable/generated/torch.optim.lr_scheduler.CosineAnnealingWarmRestarts.html\n",
        "> `https://zhuanlan.zhihu.com/p/261134624`\n",
        "\n",
        ">https://stackoverflow.com/questions/65343377/adam-optimizer-with-warmup-on-pytorch\n",
        "\n",
        ">`https://www.reddit.com/r/MachineLearning/comments/oy3co1/d_how_to_pick_a_learning_rate_scheduler/`\n",
        ">`https://www.jeremyjordan.me/nn-learning-rate/`\n",
        ">\n",
        ">https://pytorch.org/docs/stable/generated/torch.optim.lr_scheduler.CosineAnnealingWarmRestarts.html\n",
        ">\n",
        ">\n",
        ">"
      ]
    },
    {
      "cell_type": "code",
      "metadata": {
        "id": "417dxrgX7Akg"
      },
      "source": [
        "\n",
        "# initialize the torch metric  of accuracy\n",
        "train_accuracy = torchmetrics.Accuracy().to(DEVICE)\n",
        "valid_accuracy = torchmetrics.Accuracy().to(DEVICE)\n",
        "# torchmetrics.Precision().to(DEVICE) #dont count other metrics since it is time consuming \n",
        "\n",
        "loss_function = nn.CrossEntropyLoss().to(DEVICE)\n",
        "\n",
        "LEARNING_RATE, MOMENTUM = 0.0001, 0.9\n",
        "# A Method for Stochastic Optimization_. The implementation of the L2 penalty follows changes proposed in Decoupled Weight Decay Regularization_.\n",
        "optimizer = optim.Adam(model.parameters() ,lr=LEARNING_RATE) # lr=0.001 is default lr for Adam, set to higher since we use scheduler\n",
        "\n",
        "# \n",
        "# optimizer = optim.RMSprop(model.parameters(),lr=LEARNING_RATE, momentum=MOMENTUM)\n",
        "# optimizer = optim.SGD(model.parameters(),lr=LEARNING_RATE, momentum=MOMENTUM)\n",
        "\n",
        "# optimizer = optim.SGD(model.parameters(),lr=LEARNING_RATE, momentum=MOMENTUM)\n",
        "# optimizer = optim.SGD(model.parameters(), lr=0.005, momentum=0.99)\n",
        "\n",
        "# scheduler = CyclicLR(optimizer, base_lr=lr, max_lr=0.01, step_size=5, mode='triangular2')\n",
        "# scheduler = lr_scheduler.StepLR(optimizer, step_size=3, gamma=0.1)\n",
        "# scheduler = lr_scheduler.CosineAnnealingLR(optimizer)\n",
        "\n",
        "# scheduler = lr_scheduler.CosineAnnealingWarmRestarts(optimizer,T_0=5,T_mult=2)\n",
        "\n"
      ],
      "execution_count": null,
      "outputs": []
    },
    {
      "cell_type": "markdown",
      "metadata": {
        "id": "FaaGjFXG7Akg"
      },
      "source": [
        "train the model several epoches"
      ]
    },
    {
      "cell_type": "code",
      "metadata": {
        "id": "PUpAhBUo7Akg",
        "colab": {
          "base_uri": "https://localhost:8080/"
        },
        "outputId": "a8ddab85-fbec-42c4-f505-68b1c60468e5"
      },
      "source": [
        "# assert False\n",
        "model = model.train()\n",
        "total_step, valid_loss_min, valid_acc_best = 0, np.Inf, np.Inf\n",
        "loss_train_list, loss_val_list, acc_train_list, acc_valid_list, cur_lr_list = [], [], [], [], []\n",
        "\n",
        "best_model = {} # for storing the best mode based on the lowest loss \n",
        "p = 0  # epoch numers of the validation set loss didn't decrease\n",
        "stop = False  # whether stop the training process\n",
        "\n",
        "iters = len(train_loader)\n",
        "epoch_num = 75 if model.to_model_string()=='CNN' else 15\n",
        "print('total epoch num',epoch_num)\n",
        "for epoch in range(0, epoch_num):\n",
        "    if stop:\n",
        "        break\n",
        "        \n",
        "    # reset for current epoch\n",
        "    train_accuracy.reset()\n",
        "    valid_accuracy.reset()\n",
        "\n",
        "    train_loss = []\n",
        "\n",
        "    for batch_index, (image_X, target_Y) in enumerate(train_loader):\n",
        "        total_step = total_step+1\n",
        "        # enable the GPU train if we can\n",
        "        image_X, target_Y = image_X.to(DEVICE), target_Y.to(DEVICE)\n",
        "\n",
        "        # Sets the gradients of all optimized torch.Tensor s to zero.\n",
        "        optimizer.zero_grad()\n",
        "\n",
        "        # do the forward , back-propagation, and optimize\n",
        "        outputs = model(image_X)\n",
        "        loss = loss_function(outputs, target_Y)\n",
        "        train_loss.append(loss.item())\n",
        "\n",
        "        # store the accuracy\n",
        "        preds = torch.max(outputs, 1)[1]\n",
        "        train_accuracy(preds, target_Y)  # TODO:\n",
        "\n",
        "        # BACKWARD and optimize\n",
        "        loss.backward()\n",
        "        optimizer.step()\n",
        "        # #If call scheduler.step() after the end of an epoch,(i.e.outside this for loop)\n",
        "        # #Then all batches in an epoch use the same learning rate,\n",
        "        # #in order to make different batches use different learning rates\n",
        "        # #we call it in there\n",
        "        # scheduler.step(epoch + batch_index / iters)\n",
        "        # cur_lr=optimizer.param_groups[-1]['lr']\n",
        "        # cur_lr_list.append(cur_lr)\n",
        "        ## print('cur_lr:',cur_lr)\n",
        "    # print('epoch_{}_end'.format(epoch))\n",
        "\n",
        "    # scheduler.step(epoch) \n",
        "    cur_lr=optimizer.param_groups[-1]['lr']\n",
        "    cur_lr_list.append(cur_lr)\n",
        "\n",
        "    final_train_acc = train_accuracy.compute().item()  # * 100\n",
        "    acc_train_list.append(final_train_acc)\n",
        "    # FIXME: DIFF ???  use np.mean() or need to divide by len(trainset)\n",
        "    final_train_loss_mean = np.sum(train_loss)/len(train_set)\n",
        "    loss_train_list.append(final_train_loss_mean)\n",
        "\n",
        "    # for validation set\n",
        "    model.eval()\n",
        "    val_loss = []\n",
        "    # since we're not training, we don't need to calculate the gradients for our outputs\n",
        "    with torch.no_grad():\n",
        "        for batch_index, (image_X, target_Y) in enumerate(valid_loader):\n",
        "            # enable the GPU  if we can\n",
        "            image_X, target_Y = image_X.to(DEVICE), target_Y.to(DEVICE)\n",
        "            outputs = model(image_X)\n",
        "            loss = loss_function(outputs, target_Y)\n",
        "            val_loss.append(loss.item())\n",
        "\n",
        "            # store the accuracy\n",
        "            preds = torch.max(outputs, 1)[1]\n",
        "            valid_accuracy(preds, target_Y)  # TODO:\n",
        "    final_valid_acc = valid_accuracy.compute().item()  # * 100\n",
        "    acc_valid_list.append(final_valid_acc)\n",
        "\n",
        "    # FIXME: DIFF ???  use np.mean() or need to divide by len(trainset)\n",
        "    final_valid_loss_mean = np.sum(val_loss)/len(valid_set)\n",
        "    loss_val_list .append(final_valid_loss_mean)\n",
        "    print('-'*70)\n",
        "    print('-'*70)\n",
        "    print(time.ctime())\n",
        "    print(\n",
        "        f'Epoch {epoch}:', '\\n', f'training step:{total_step}, train loss: {final_train_loss_mean:.7f}, valid loss: { final_valid_loss_mean:.7f}', \\\n",
        "        '\\n',f\"Learning rate:{cur_lr}\" )\n",
        "    print(f\"Train set accuracy: {final_train_acc:.7f}\")\n",
        "    print(f\"Valid set accuracy: {final_valid_acc:.7f}\")\n",
        "\n",
        "    # scheduler.step(final_valid_loss_mean)\n",
        "\n",
        "    # check if the loss on valid set is improved or not\n",
        "    if final_valid_loss_mean <= valid_loss_min: \n",
        "        print('-'*10)\n",
        "        print('Validation loss decreased ({:.8f} --> {:.8f}).  Saving model ...'.format(\n",
        "            valid_loss_min,\n",
        "            final_valid_loss_mean))\n",
        "        # torch.save(model.state_dict(), MODEL_SAVE_PATH)\n",
        "        valid_loss_min = final_valid_loss_mean\n",
        "        valid_acc_best = final_valid_acc\n",
        "        best_model['Best epoch'] = epoch\n",
        "        best_model['model'] = model.state_dict() # assign this model since it perform better\n",
        "        best_model['Best Acc on validation set'] = valid_acc_best\n",
        "        best_model['Best(lowest) validation loss'] = valid_loss_min\n",
        "        p = 0  # reset P\n",
        "    else:\n",
        "        print('-'*10)\n",
        "        p += 1\n",
        "        print(f'{p} epochs of increasing validation loss')\n",
        "        if p >= 15:\n",
        "            print(f'Stopping training since no improvement on the validation loss over {p} epoches ')\n",
        "            stop = True\n",
        "            break\n",
        "\n"
      ],
      "execution_count": null,
      "outputs": [
        {
          "output_type": "stream",
          "name": "stdout",
          "text": [
            "total epoch num 75\n"
          ]
        },
        {
          "output_type": "stream",
          "name": "stderr",
          "text": [
            "/usr/local/lib/python3.7/dist-packages/torch/nn/functional.py:718: UserWarning: Named tensors and all their associated APIs are an experimental feature and subject to change. Please do not use them for anything important until they are released as stable. (Triggered internally at  /pytorch/c10/core/TensorImpl.h:1156.)\n",
            "  return torch.max_pool2d(input, kernel_size, stride, padding, dilation, ceil_mode)\n"
          ]
        },
        {
          "output_type": "stream",
          "name": "stdout",
          "text": [
            "----------------------------------------------------------------------\n",
            "----------------------------------------------------------------------\n",
            "Fri Oct 22 08:32:07 2021\n",
            "Epoch 0: \n",
            " training step:63, train loss: 0.0193936, valid loss: 0.0177461 \n",
            " Learning rate:0.0001\n",
            "Train set accuracy: 0.3950249\n",
            "Valid set accuracy: 0.3479125\n",
            "----------\n",
            "Validation loss decreased (inf --> 0.01774611).  Saving model ...\n",
            "----------------------------------------------------------------------\n",
            "----------------------------------------------------------------------\n",
            "Fri Oct 22 08:33:16 2021\n",
            "Epoch 1: \n",
            " training step:126, train loss: 0.0166164, valid loss: 0.0161118 \n",
            " Learning rate:0.0001\n",
            "Train set accuracy: 0.4199005\n",
            "Valid set accuracy: 0.5000000\n",
            "----------\n",
            "Validation loss decreased (0.01774611 --> 0.01611183).  Saving model ...\n",
            "----------------------------------------------------------------------\n",
            "----------------------------------------------------------------------\n",
            "Fri Oct 22 08:34:25 2021\n",
            "Epoch 2: \n",
            " training step:189, train loss: 0.0149556, valid loss: 0.0143619 \n",
            " Learning rate:0.0001\n",
            "Train set accuracy: 0.5375622\n",
            "Valid set accuracy: 0.5596421\n",
            "----------\n",
            "Validation loss decreased (0.01611183 --> 0.01436186).  Saving model ...\n",
            "----------------------------------------------------------------------\n",
            "----------------------------------------------------------------------\n",
            "Fri Oct 22 08:35:34 2021\n",
            "Epoch 3: \n",
            " training step:252, train loss: 0.0136777, valid loss: 0.0132063 \n",
            " Learning rate:0.0001\n",
            "Train set accuracy: 0.6032338\n",
            "Valid set accuracy: 0.6123260\n",
            "----------\n",
            "Validation loss decreased (0.01436186 --> 0.01320629).  Saving model ...\n",
            "----------------------------------------------------------------------\n",
            "----------------------------------------------------------------------\n",
            "Fri Oct 22 08:36:43 2021\n",
            "Epoch 4: \n",
            " training step:315, train loss: 0.0123382, valid loss: 0.0119771 \n",
            " Learning rate:0.0001\n",
            "Train set accuracy: 0.6594527\n",
            "Valid set accuracy: 0.6640159\n",
            "----------\n",
            "Validation loss decreased (0.01320629 --> 0.01197706).  Saving model ...\n",
            "----------------------------------------------------------------------\n",
            "----------------------------------------------------------------------\n",
            "Fri Oct 22 08:37:52 2021\n",
            "Epoch 5: \n",
            " training step:378, train loss: 0.0108237, valid loss: 0.0116040 \n",
            " Learning rate:0.0001\n",
            "Train set accuracy: 0.7151741\n",
            "Valid set accuracy: 0.6779324\n",
            "----------\n",
            "Validation loss decreased (0.01197706 --> 0.01160403).  Saving model ...\n",
            "----------------------------------------------------------------------\n",
            "----------------------------------------------------------------------\n",
            "Fri Oct 22 08:39:02 2021\n",
            "Epoch 6: \n",
            " training step:441, train loss: 0.0100496, valid loss: 0.0092945 \n",
            " Learning rate:0.0001\n",
            "Train set accuracy: 0.7348258\n",
            "Valid set accuracy: 0.7624254\n",
            "----------\n",
            "Validation loss decreased (0.01160403 --> 0.00929452).  Saving model ...\n",
            "----------------------------------------------------------------------\n",
            "----------------------------------------------------------------------\n",
            "Fri Oct 22 08:40:10 2021\n",
            "Epoch 7: \n",
            " training step:504, train loss: 0.0088445, valid loss: 0.0104591 \n",
            " Learning rate:0.0001\n",
            "Train set accuracy: 0.7703980\n",
            "Valid set accuracy: 0.7713718\n",
            "----------\n",
            "1 epochs of increasing validation loss\n",
            "----------------------------------------------------------------------\n",
            "----------------------------------------------------------------------\n",
            "Fri Oct 22 08:41:20 2021\n",
            "Epoch 8: \n",
            " training step:567, train loss: 0.0078742, valid loss: 0.0087582 \n",
            " Learning rate:0.0001\n",
            "Train set accuracy: 0.8034826\n",
            "Valid set accuracy: 0.7753479\n",
            "----------\n",
            "Validation loss decreased (0.00929452 --> 0.00875819).  Saving model ...\n",
            "----------------------------------------------------------------------\n",
            "----------------------------------------------------------------------\n",
            "Fri Oct 22 08:42:29 2021\n",
            "Epoch 9: \n",
            " training step:630, train loss: 0.0074151, valid loss: 0.0082561 \n",
            " Learning rate:0.0001\n",
            "Train set accuracy: 0.8156716\n",
            "Valid set accuracy: 0.7942346\n",
            "----------\n",
            "Validation loss decreased (0.00875819 --> 0.00825614).  Saving model ...\n",
            "----------------------------------------------------------------------\n",
            "----------------------------------------------------------------------\n",
            "Fri Oct 22 08:43:38 2021\n",
            "Epoch 10: \n",
            " training step:693, train loss: 0.0071253, valid loss: 0.0076422 \n",
            " Learning rate:0.0001\n",
            "Train set accuracy: 0.8191542\n",
            "Valid set accuracy: 0.8081511\n",
            "----------\n",
            "Validation loss decreased (0.00825614 --> 0.00764224).  Saving model ...\n",
            "----------------------------------------------------------------------\n",
            "----------------------------------------------------------------------\n",
            "Fri Oct 22 08:44:47 2021\n",
            "Epoch 11: \n",
            " training step:756, train loss: 0.0066349, valid loss: 0.0070444 \n",
            " Learning rate:0.0001\n",
            "Train set accuracy: 0.8308458\n",
            "Valid set accuracy: 0.8290259\n",
            "----------\n",
            "Validation loss decreased (0.00764224 --> 0.00704435).  Saving model ...\n",
            "----------------------------------------------------------------------\n",
            "----------------------------------------------------------------------\n",
            "Fri Oct 22 08:45:56 2021\n",
            "Epoch 12: \n",
            " training step:819, train loss: 0.0059615, valid loss: 0.0069508 \n",
            " Learning rate:0.0001\n",
            "Train set accuracy: 0.8477612\n",
            "Valid set accuracy: 0.8310139\n",
            "----------\n",
            "Validation loss decreased (0.00704435 --> 0.00695080).  Saving model ...\n",
            "----------------------------------------------------------------------\n",
            "----------------------------------------------------------------------\n",
            "Fri Oct 22 08:47:05 2021\n",
            "Epoch 13: \n",
            " training step:882, train loss: 0.0057473, valid loss: 0.0073893 \n",
            " Learning rate:0.0001\n",
            "Train set accuracy: 0.8547264\n",
            "Valid set accuracy: 0.8220676\n",
            "----------\n",
            "1 epochs of increasing validation loss\n",
            "----------------------------------------------------------------------\n",
            "----------------------------------------------------------------------\n",
            "Fri Oct 22 08:48:14 2021\n",
            "Epoch 14: \n",
            " training step:945, train loss: 0.0050740, valid loss: 0.0077283 \n",
            " Learning rate:0.0001\n",
            "Train set accuracy: 0.8773632\n",
            "Valid set accuracy: 0.8061630\n",
            "----------\n",
            "2 epochs of increasing validation loss\n",
            "----------------------------------------------------------------------\n",
            "----------------------------------------------------------------------\n",
            "Fri Oct 22 08:49:23 2021\n",
            "Epoch 15: \n",
            " training step:1008, train loss: 0.0045493, valid loss: 0.0068686 \n",
            " Learning rate:0.0001\n",
            "Train set accuracy: 0.8898010\n",
            "Valid set accuracy: 0.8419483\n",
            "----------\n",
            "Validation loss decreased (0.00695080 --> 0.00686862).  Saving model ...\n",
            "----------------------------------------------------------------------\n",
            "----------------------------------------------------------------------\n",
            "Fri Oct 22 08:50:32 2021\n",
            "Epoch 16: \n",
            " training step:1071, train loss: 0.0041583, valid loss: 0.0068383 \n",
            " Learning rate:0.0001\n",
            "Train set accuracy: 0.8987562\n",
            "Valid set accuracy: 0.8439364\n",
            "----------\n",
            "Validation loss decreased (0.00686862 --> 0.00683829).  Saving model ...\n",
            "----------------------------------------------------------------------\n",
            "----------------------------------------------------------------------\n",
            "Fri Oct 22 08:51:41 2021\n",
            "Epoch 17: \n",
            " training step:1134, train loss: 0.0039861, valid loss: 0.0071298 \n",
            " Learning rate:0.0001\n",
            "Train set accuracy: 0.9024876\n",
            "Valid set accuracy: 0.8369781\n",
            "----------\n",
            "1 epochs of increasing validation loss\n",
            "----------------------------------------------------------------------\n",
            "----------------------------------------------------------------------\n",
            "Fri Oct 22 08:52:50 2021\n",
            "Epoch 18: \n",
            " training step:1197, train loss: 0.0032033, valid loss: 0.0076267 \n",
            " Learning rate:0.0001\n",
            "Train set accuracy: 0.9213930\n",
            "Valid set accuracy: 0.8240557\n",
            "----------\n",
            "2 epochs of increasing validation loss\n",
            "----------------------------------------------------------------------\n",
            "----------------------------------------------------------------------\n",
            "Fri Oct 22 08:53:59 2021\n",
            "Epoch 19: \n",
            " training step:1260, train loss: 0.0027330, valid loss: 0.0080633 \n",
            " Learning rate:0.0001\n",
            "Train set accuracy: 0.9363184\n",
            "Valid set accuracy: 0.8270378\n",
            "----------\n",
            "3 epochs of increasing validation loss\n",
            "----------------------------------------------------------------------\n",
            "----------------------------------------------------------------------\n",
            "Fri Oct 22 08:55:09 2021\n",
            "Epoch 20: \n",
            " training step:1323, train loss: 0.0027845, valid loss: 0.0079106 \n",
            " Learning rate:0.0001\n",
            "Train set accuracy: 0.9373134\n",
            "Valid set accuracy: 0.8200795\n",
            "----------\n",
            "4 epochs of increasing validation loss\n",
            "----------------------------------------------------------------------\n",
            "----------------------------------------------------------------------\n",
            "Fri Oct 22 08:56:18 2021\n",
            "Epoch 21: \n",
            " training step:1386, train loss: 0.0031634, valid loss: 0.0080978 \n",
            " Learning rate:0.0001\n",
            "Train set accuracy: 0.9261194\n",
            "Valid set accuracy: 0.8190855\n",
            "----------\n",
            "5 epochs of increasing validation loss\n",
            "----------------------------------------------------------------------\n",
            "----------------------------------------------------------------------\n",
            "Fri Oct 22 08:57:27 2021\n",
            "Epoch 22: \n",
            " training step:1449, train loss: 0.0016402, valid loss: 0.0098047 \n",
            " Learning rate:0.0001\n",
            "Train set accuracy: 0.9676617\n",
            "Valid set accuracy: 0.8379722\n",
            "----------\n",
            "6 epochs of increasing validation loss\n",
            "----------------------------------------------------------------------\n",
            "----------------------------------------------------------------------\n",
            "Fri Oct 22 08:58:36 2021\n",
            "Epoch 23: \n",
            " training step:1512, train loss: 0.0027213, valid loss: 0.0096839 \n",
            " Learning rate:0.0001\n",
            "Train set accuracy: 0.9310945\n",
            "Valid set accuracy: 0.8210735\n",
            "----------\n",
            "7 epochs of increasing validation loss\n",
            "----------------------------------------------------------------------\n",
            "----------------------------------------------------------------------\n",
            "Fri Oct 22 08:59:45 2021\n",
            "Epoch 24: \n",
            " training step:1575, train loss: 0.0011091, valid loss: 0.0096966 \n",
            " Learning rate:0.0001\n",
            "Train set accuracy: 0.9805970\n",
            "Valid set accuracy: 0.8389662\n",
            "----------\n",
            "8 epochs of increasing validation loss\n",
            "----------------------------------------------------------------------\n",
            "----------------------------------------------------------------------\n",
            "Fri Oct 22 09:00:54 2021\n",
            "Epoch 25: \n",
            " training step:1638, train loss: 0.0007015, valid loss: 0.0119741 \n",
            " Learning rate:0.0001\n",
            "Train set accuracy: 0.9853234\n",
            "Valid set accuracy: 0.8210735\n",
            "----------\n",
            "9 epochs of increasing validation loss\n",
            "----------------------------------------------------------------------\n",
            "----------------------------------------------------------------------\n",
            "Fri Oct 22 09:02:03 2021\n",
            "Epoch 26: \n",
            " training step:1701, train loss: 0.0005753, valid loss: 0.0115811 \n",
            " Learning rate:0.0001\n",
            "Train set accuracy: 0.9895523\n",
            "Valid set accuracy: 0.8280318\n",
            "----------\n",
            "10 epochs of increasing validation loss\n",
            "----------------------------------------------------------------------\n",
            "----------------------------------------------------------------------\n",
            "Fri Oct 22 09:03:12 2021\n",
            "Epoch 27: \n",
            " training step:1764, train loss: 0.0016383, valid loss: 0.0093677 \n",
            " Learning rate:0.0001\n",
            "Train set accuracy: 0.9654229\n",
            "Valid set accuracy: 0.8210735\n",
            "----------\n",
            "11 epochs of increasing validation loss\n",
            "----------------------------------------------------------------------\n",
            "----------------------------------------------------------------------\n",
            "Fri Oct 22 09:04:21 2021\n",
            "Epoch 28: \n",
            " training step:1827, train loss: 0.0005041, valid loss: 0.0123459 \n",
            " Learning rate:0.0001\n",
            "Train set accuracy: 0.9935324\n",
            "Valid set accuracy: 0.8290259\n",
            "----------\n",
            "12 epochs of increasing validation loss\n",
            "----------------------------------------------------------------------\n",
            "----------------------------------------------------------------------\n",
            "Fri Oct 22 09:05:30 2021\n",
            "Epoch 29: \n",
            " training step:1890, train loss: 0.0003481, valid loss: 0.0133760 \n",
            " Learning rate:0.0001\n",
            "Train set accuracy: 0.9940299\n",
            "Valid set accuracy: 0.8270378\n",
            "----------\n",
            "13 epochs of increasing validation loss\n",
            "----------------------------------------------------------------------\n",
            "----------------------------------------------------------------------\n",
            "Fri Oct 22 09:06:39 2021\n",
            "Epoch 30: \n",
            " training step:1953, train loss: 0.0015755, valid loss: 0.0107872 \n",
            " Learning rate:0.0001\n",
            "Train set accuracy: 0.9659204\n",
            "Valid set accuracy: 0.8230616\n",
            "----------\n",
            "14 epochs of increasing validation loss\n",
            "----------------------------------------------------------------------\n",
            "----------------------------------------------------------------------\n",
            "Fri Oct 22 09:07:48 2021\n",
            "Epoch 31: \n",
            " training step:2016, train loss: 0.0004168, valid loss: 0.0130543 \n",
            " Learning rate:0.0001\n",
            "Train set accuracy: 0.9940299\n",
            "Valid set accuracy: 0.8280318\n",
            "----------\n",
            "15 epochs of increasing validation loss\n",
            "Stopping training since no improvement on the validation loss over 15 epoches \n"
          ]
        }
      ]
    },
    {
      "cell_type": "markdown",
      "metadata": {
        "id": "jX_mrlHG7Akh"
      },
      "source": [
        "plot the graph "
      ]
    },
    {
      "cell_type": "code",
      "metadata": {
        "id": "TDk9vSTZ7Aki",
        "colab": {
          "base_uri": "https://localhost:8080/",
          "height": 392
        },
        "outputId": "56003155-38a6-41c6-e158-91d052c136b5"
      },
      "source": [
        "plt.figure(figsize=(10, 5))\n",
        "plt.suptitle(model.to_model_string()+\" by using Adam as optimizer,fixed learning rate 0.0001, no scheldar \")\n",
        "\n",
        "plt.subplot(1, 2, 1).set_title('loss')\n",
        "plt.plot(loss_train_list, color='blue', label='train set')\n",
        "plt.plot(loss_val_list, color='red', label='valid set')\n",
        "plt.subplot(1, 2, 2).set_title('Accuracy')\n",
        "plt.plot(acc_train_list, color='blue', label='train set')\n",
        "plt.plot(acc_valid_list, color='red', label='valid set')\n",
        "print('Finished the training process and plot graphs')\n",
        "print(\"RED is for validation set, BLUE is for train set \")\n",
        "plt.show()\n"
      ],
      "execution_count": null,
      "outputs": [
        {
          "output_type": "stream",
          "name": "stdout",
          "text": [
            "Finished the training process and plot graphs\n",
            "RED is for validation set, BLUE is for train set \n"
          ]
        },
        {
          "output_type": "display_data",
          "data": {
            "image/png": "[encoded data removed]",
            "text/plain": [
              "<Figure size 720x360 with 2 Axes>"
            ]
          },
          "metadata": {
            "needs_background": "light"
          }
        }
      ]
    },
    {
      "cell_type": "code",
      "metadata": {
        "id": "5xo3KyjRge1C",
        "colab": {
          "base_uri": "https://localhost:8080/",
          "height": 283
        },
        "outputId": "7c1217b7-08e3-43a1-8810-fada38f90718"
      },
      "source": [
        "print('plot graph for learning rate changes')\n",
        "x_list = list(range(len(cur_lr_list)))\n",
        "plt.plot(x_list, cur_lr_list,label=\"learning rate plot\")\n",
        "plt.show()"
      ],
      "execution_count": null,
      "outputs": [
        {
          "output_type": "stream",
          "name": "stdout",
          "text": [
            "plot graph for learning rate changes\n"
          ]
        },
        {
          "output_type": "display_data",
          "data": {
            "image/png": "[encoded data removed]",
            "text/plain": [
              "<Figure size 432x288 with 1 Axes>"
            ]
          },
          "metadata": {
            "needs_background": "light"
          }
        }
      ]
    },
    {
      "cell_type": "code",
      "metadata": {
        "id": "xZf5-O9EzzoW",
        "colab": {
          "base_uri": "https://localhost:8080/"
        },
        "outputId": "204d3fd0-099b-4200-ebdd-9afe7fb1172f"
      },
      "source": [
        "# assert False\n",
        "assert best_model is not None, \"best model is not assigned correctly on above code\"\n",
        "SAVE_PATH = \"/content/gdrive/MyDrive/Colab_Notebooks/model_Adam.pth\"\n",
        "torch.save(best_model['model'], SAVE_PATH)\n",
        "for k,v in best_model.items():\n",
        "  if k is not 'model':\n",
        "    print(f\"{k}: {v}\")"
      ],
      "execution_count": null,
      "outputs": [
        {
          "output_type": "stream",
          "name": "stdout",
          "text": [
            "Best epoch: 16\n",
            "Best Acc on validation set: 0.8439363837242126\n",
            "Best(lowest) validation loss: 0.006838291083605104\n"
          ]
        }
      ]
    }
  ]
}